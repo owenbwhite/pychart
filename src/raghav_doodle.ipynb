{
 "cells": [
  {
   "cell_type": "code",
   "execution_count": 84,
   "metadata": {},
   "outputs": [],
   "source": [
    "from client import Chartmetric\n",
    "import numpy as np\n",
    "import matplotlib.pyplot as plt\n",
    "import pandas as pd\n",
    "import json\n",
    "\n",
    "import matplotlib as mpl\n",
    "mpl.rcParams['axes.linewidth'] = 10\n",
    "\n",
    "%matplotlib inline"
   ]
  },
  {
   "cell_type": "code",
   "execution_count": 51,
   "metadata": {},
   "outputs": [],
   "source": [
    "token = \"\"\n",
    "with open(\"../.config.txt\", mode=\"r\") as f:\n",
    "    token += f.read().strip()\n",
    "\n",
    "cm = Chartmetric(token)"
   ]
  },
  {
   "cell_type": "code",
   "execution_count": 52,
   "metadata": {},
   "outputs": [
    {
     "name": "stdout",
     "output_type": "stream",
     "text": [
      "\n"
     ]
    },
    {
     "data": {
      "text/plain": [
       "{'obj': {'artists': [],\n",
       "  'playlists': {'spotify': [],\n",
       "   'applemusic': [],\n",
       "   'deezer': [],\n",
       "   'amazon': [],\n",
       "   'youtube': []},\n",
       "  'tracks': [{'id': 21890146,\n",
       "    'name': 'Locs Too Long',\n",
       "    'image_url': 'https://i.scdn.co/image/21cd3c5015fba393a4855128a262a9f38fd2ba7e',\n",
       "    'isrc': 'QZES61802374',\n",
       "    'need_to_drop': None,\n",
       "    'description': None,\n",
       "    'tags': None,\n",
       "    'cm_track': 21890146,\n",
       "    'cm_artist': [1344280],\n",
       "    'artist_names': ['Heart$ick Hermès'],\n",
       "    'code2s': [None],\n",
       "    'artist_images': [None],\n",
       "    'artist_covers': [None],\n",
       "    'spotify_track_ids': ['6qRrw31onqM4NFSdJLfq1U'],\n",
       "    'spotify_album_ids': ['21s4qN52VyuTAVYBfAgVMJ'],\n",
       "    'spotify_duration_ms': 192280,\n",
       "    'itunes_track_ids': None,\n",
       "    'itunes_album_ids': None,\n",
       "    'storefronts': None,\n",
       "    'deezer_track_ids': None,\n",
       "    'deezer_album_ids': None,\n",
       "    'deezer_duration': None,\n",
       "    'amazon_track_ids': None,\n",
       "    'amazon_album_ids': None,\n",
       "    'album_ids': [3384807],\n",
       "    'album_names': ['The Thotties Call Me Heart$ick'],\n",
       "    'album_upc': ['193537393070'],\n",
       "    'album_label': ['The Manhattan Club'],\n",
       "    'release_dates': ['2018-10-31T00:00:00.000Z']}],\n",
       "  'curators': {'spotify': [], 'applemusic': [], 'deezer': []},\n",
       "  'albums': [],\n",
       "  'stations': [],\n",
       "  'labels': [],\n",
       "  'cities': []}}"
      ]
     },
     "execution_count": 52,
     "metadata": {},
     "output_type": "execute_result"
    }
   ],
   "source": [
    "cm.search('QZES61802374')"
   ]
  },
  {
   "cell_type": "code",
   "execution_count": 53,
   "metadata": {},
   "outputs": [
    {
     "data": {
      "text/html": [
       "<div>\n",
       "<style scoped>\n",
       "    .dataframe tbody tr th:only-of-type {\n",
       "        vertical-align: middle;\n",
       "    }\n",
       "\n",
       "    .dataframe tbody tr th {\n",
       "        vertical-align: top;\n",
       "    }\n",
       "\n",
       "    .dataframe thead th {\n",
       "        text-align: right;\n",
       "    }\n",
       "</style>\n",
       "<table border=\"1\" class=\"dataframe\">\n",
       "  <thead>\n",
       "    <tr style=\"text-align: right;\">\n",
       "      <th></th>\n",
       "      <th>Unnamed: 0</th>\n",
       "      <th>Label</th>\n",
       "      <th>Spotify</th>\n",
       "      <th>Title</th>\n",
       "      <th>Artist</th>\n",
       "      <th>Featured Artists</th>\n",
       "      <th>feat-string</th>\n",
       "      <th>artist-string</th>\n",
       "      <th>weav-track-prefix</th>\n",
       "      <th>Prefix formula</th>\n",
       "      <th>Genre</th>\n",
       "      <th>ISRC</th>\n",
       "      <th>GRID</th>\n",
       "      <th>source-UPC</th>\n",
       "      <th>Circle of Fifths</th>\n",
       "    </tr>\n",
       "  </thead>\n",
       "  <tbody>\n",
       "    <tr>\n",
       "      <th>0</th>\n",
       "      <td>0</td>\n",
       "      <td>['recv68bB40bhbNHXl']</td>\n",
       "      <td>https://open.spotify.com/search/songs/Outkast%...</td>\n",
       "      <td>Ms Jackson</td>\n",
       "      <td>Outkast</td>\n",
       "      <td>NaN</td>\n",
       "      <td>NaN</td>\n",
       "      <td>Outkast</td>\n",
       "      <td>io.weav.tracks.MsJackson</td>\n",
       "      <td>MsJackson</td>\n",
       "      <td>['Hip Hop']</td>\n",
       "      <td>USAR10100783</td>\n",
       "      <td>NaN</td>\n",
       "      <td>NaN</td>\n",
       "      <td>0</td>\n",
       "    </tr>\n",
       "    <tr>\n",
       "      <th>1</th>\n",
       "      <td>1</td>\n",
       "      <td>['recrzFbrNYO25B8Yn']</td>\n",
       "      <td>https://open.spotify.com/search/songs/Whethan%...</td>\n",
       "      <td>Savage</td>\n",
       "      <td>Whethan</td>\n",
       "      <td>['recjJwJm290oHWAam']</td>\n",
       "      <td>Flux Pavilion</td>\n",
       "      <td>Whethan</td>\n",
       "      <td>io.weav.tracks.Savage</td>\n",
       "      <td>Savage</td>\n",
       "      <td>['EDM']</td>\n",
       "      <td>USAT21603407</td>\n",
       "      <td>A10302B0003796223G</td>\n",
       "      <td>7.567990e+10</td>\n",
       "      <td>2</td>\n",
       "    </tr>\n",
       "    <tr>\n",
       "      <th>2</th>\n",
       "      <td>2</td>\n",
       "      <td>['recv68bB40bhbNHXl']</td>\n",
       "      <td>https://open.spotify.com/search/songs/Run%20DM...</td>\n",
       "      <td>It’s Tricky</td>\n",
       "      <td>Run DMC</td>\n",
       "      <td>NaN</td>\n",
       "      <td>NaN</td>\n",
       "      <td>Run DMC</td>\n",
       "      <td>io.weav.tracks.ItsTricky</td>\n",
       "      <td>It’sTricky</td>\n",
       "      <td>['Hip Hop']</td>\n",
       "      <td>USAR18600005</td>\n",
       "      <td>NaN</td>\n",
       "      <td>NaN</td>\n",
       "      <td>8</td>\n",
       "    </tr>\n",
       "    <tr>\n",
       "      <th>3</th>\n",
       "      <td>3</td>\n",
       "      <td>['recrzFbrNYO25B8Yn']</td>\n",
       "      <td>https://open.spotify.com/search/songs/KREAM%20...</td>\n",
       "      <td>Another Life</td>\n",
       "      <td>KREAM</td>\n",
       "      <td>['recOvVIULnlI4VeU7']</td>\n",
       "      <td>Mark Asari</td>\n",
       "      <td>KREAM</td>\n",
       "      <td>io.weav.tracks.AnotherLife</td>\n",
       "      <td>AnotherLife</td>\n",
       "      <td>['Dance']</td>\n",
       "      <td>USAT21802943</td>\n",
       "      <td>A10302B0004488087Z</td>\n",
       "      <td>7.567991e+10</td>\n",
       "      <td>3</td>\n",
       "    </tr>\n",
       "    <tr>\n",
       "      <th>4</th>\n",
       "      <td>4</td>\n",
       "      <td>['recrzFbrNYO25B8Yn']</td>\n",
       "      <td>https://open.spotify.com/search/songs/The%20Kn...</td>\n",
       "      <td>Classic</td>\n",
       "      <td>The Knocks</td>\n",
       "      <td>['recqLLl5r1PhVMgCz']</td>\n",
       "      <td>Powers</td>\n",
       "      <td>The Knocks</td>\n",
       "      <td>io.weav.tracks.Classic</td>\n",
       "      <td>Classic</td>\n",
       "      <td>['Dance']</td>\n",
       "      <td>USAT21404380</td>\n",
       "      <td>A10302B0002670000S</td>\n",
       "      <td>7.567991e+10</td>\n",
       "      <td>2</td>\n",
       "    </tr>\n",
       "  </tbody>\n",
       "</table>\n",
       "</div>"
      ],
      "text/plain": [
       "   Unnamed: 0                  Label  \\\n",
       "0           0  ['recv68bB40bhbNHXl']   \n",
       "1           1  ['recrzFbrNYO25B8Yn']   \n",
       "2           2  ['recv68bB40bhbNHXl']   \n",
       "3           3  ['recrzFbrNYO25B8Yn']   \n",
       "4           4  ['recrzFbrNYO25B8Yn']   \n",
       "\n",
       "                                             Spotify         Title  \\\n",
       "0  https://open.spotify.com/search/songs/Outkast%...    Ms Jackson   \n",
       "1  https://open.spotify.com/search/songs/Whethan%...        Savage   \n",
       "2  https://open.spotify.com/search/songs/Run%20DM...   It’s Tricky   \n",
       "3  https://open.spotify.com/search/songs/KREAM%20...  Another Life   \n",
       "4  https://open.spotify.com/search/songs/The%20Kn...       Classic   \n",
       "\n",
       "       Artist       Featured Artists    feat-string artist-string  \\\n",
       "0     Outkast                    NaN            NaN       Outkast   \n",
       "1     Whethan  ['recjJwJm290oHWAam']  Flux Pavilion       Whethan   \n",
       "2     Run DMC                    NaN            NaN       Run DMC   \n",
       "3       KREAM  ['recOvVIULnlI4VeU7']     Mark Asari         KREAM   \n",
       "4  The Knocks  ['recqLLl5r1PhVMgCz']         Powers    The Knocks   \n",
       "\n",
       "            weav-track-prefix Prefix formula        Genre          ISRC  \\\n",
       "0    io.weav.tracks.MsJackson      MsJackson  ['Hip Hop']  USAR10100783   \n",
       "1       io.weav.tracks.Savage         Savage      ['EDM']  USAT21603407   \n",
       "2    io.weav.tracks.ItsTricky     It’sTricky  ['Hip Hop']  USAR18600005   \n",
       "3  io.weav.tracks.AnotherLife    AnotherLife    ['Dance']  USAT21802943   \n",
       "4      io.weav.tracks.Classic        Classic    ['Dance']  USAT21404380   \n",
       "\n",
       "                 GRID    source-UPC  Circle of Fifths  \n",
       "0                 NaN           NaN                 0  \n",
       "1  A10302B0003796223G  7.567990e+10                 2  \n",
       "2                 NaN           NaN                 8  \n",
       "3  A10302B0004488087Z  7.567991e+10                 3  \n",
       "4  A10302B0002670000S  7.567991e+10                 2  "
      ]
     },
     "execution_count": 53,
     "metadata": {},
     "output_type": "execute_result"
    }
   ],
   "source": [
    "df = pd.read_csv('tracks.csv')\n",
    "df.head()"
   ]
  },
  {
   "cell_type": "code",
   "execution_count": 54,
   "metadata": {},
   "outputs": [],
   "source": [
    "tests = df.loc[df.ISRC.notnull()]"
   ]
  },
  {
   "cell_type": "code",
   "execution_count": 107,
   "metadata": {},
   "outputs": [
    {
     "name": "stdout",
     "output_type": "stream",
     "text": [
      "\n",
      "fuck off\n",
      "\n",
      "USSM11801050\n",
      "\n",
      "USSM11805716\n",
      "\n",
      "fuck off\n",
      "\n",
      "fuck off\n",
      "\n",
      "USSD11700398\n",
      "\n",
      "USSD11800288\n",
      "\n",
      "USRC11803636\n",
      "\n",
      "USSM11801920\n",
      "\n",
      "USSM11704909\n",
      "\n",
      "USSM11704983\n",
      "\n",
      "USSM11800493\n",
      "\n",
      "USQX91802210\n",
      "\n",
      "USSM11804479\n",
      "\n",
      "fuck off\n"
     ]
    }
   ],
   "source": [
    "# isrc_dict = {}\n",
    "# for test in tests.ISRC.head(15):\n",
    "#     search_results = cm.search(test)\n",
    "    \n",
    "#     try:\n",
    "#         shit = search_results['obj']['tracks'][0]['id']\n",
    "#         name_of_song = search_results[\"obj\"][\"tracks\"][0][\"name\"]\n",
    "#         isrc_dict[name_of_song] = dict(shit=shit, isrc=test)\n",
    "#         print(test)\n",
    "#     except TypeError:\n",
    "#         print(\"fuck off\")\n",
    "#     except JSONDecodeError:\n",
    "#         print(\"really just FUCK off\")\n",
    "    \n",
    "isrc_dict = {}\n",
    "for test in tests.ISRC.tail(15):\n",
    "    search_results = cm.search(test)\n",
    "    \n",
    "    try:\n",
    "        shit = search_results['obj']['tracks'][0]['id']\n",
    "        name_of_song = search_results[\"obj\"][\"tracks\"][0][\"name\"]\n",
    "        isrc_dict[name_of_song] = dict(shit=shit, isrc=test)\n",
    "        print(test)\n",
    "    except TypeError:\n",
    "        print(\"fuck off\")\n",
    "    except JSONDecodeError:\n",
    "        print(\"really just FUCK off\")\n",
    "\n",
    "#     if search_results['obj']['tracks'][0]['id']:\n",
    "#         print(search_results['obj']['tracks'][0]['id'])"
   ]
  },
  {
   "cell_type": "code",
   "execution_count": 121,
   "metadata": {},
   "outputs": [
    {
     "data": {
      "text/plain": [
       "dict_values([{'isrc': 'USAR10100783', 'shit': 15048628}, {'isrc': 'USAT21603407', 'shit': 15092670}, {'isrc': 'USAR18600005', 'shit': 15051716}, {'isrc': 'USAT21404380', 'shit': 15089187}, {'isrc': 'USAT21602118', 'shit': 15092020}, {'isrc': 'USAT21602970', 'shit': 15092425}, {'isrc': 'USAT21600001', 'shit': 15091180}, {'isrc': 'GB2DZ1600029', 'shit': 12368549}, {'isrc': 'USQX91500448', 'shit': 15620212}, {'isrc': 'USUS11600249', 'shit': 15950974}, {'isrc': 'USAT21603388', 'shit': 15092660}, {'isrc': 'USSM11507976', 'shit': 15797134}])"
      ]
     },
     "execution_count": 121,
     "metadata": {},
     "output_type": "execute_result"
    }
   ],
   "source": [
    "# isrc_df = pd.DataFrame.from_dict(isrc_dict__).T\n",
    "# isrc_df.to_csv(\"isrc.csv\")\n",
    "\n",
    "def Merge(dict1, dict2): \n",
    "    return(dict2.update(dict1)) \n",
    "\n",
    "isrc_dict_2 = isrc_df.T.to_dict()\n",
    "\n",
    "# isrc_dict_main = Merge(isrc_dict, isrc_dict_2)\n",
    "\n",
    "isrc_dict = isrc_dict_2\n",
    "\n",
    "isrc_dict_2.values()"
   ]
  },
  {
   "cell_type": "code",
   "execution_count": null,
   "metadata": {},
   "outputs": [],
   "source": []
  },
  {
   "cell_type": "code",
   "execution_count": 122,
   "metadata": {},
   "outputs": [
    {
     "name": "stdout",
     "output_type": "stream",
     "text": [
      "{'isrc': 'USAR10100783', 'shit': 15048628}\n",
      "\n",
      "{'isrc': 'USAT21603407', 'shit': 15092670}\n",
      "\n",
      "{'isrc': 'USAR18600005', 'shit': 15051716}\n",
      "\n",
      "{'isrc': 'USAT21404380', 'shit': 15089187}\n",
      "\n",
      "{'isrc': 'USAT21602118', 'shit': 15092020}\n",
      "\n",
      "{'isrc': 'USAT21602970', 'shit': 15092425}\n",
      "\n",
      "{'isrc': 'USAT21600001', 'shit': 15091180}\n",
      "\n",
      "{'isrc': 'GB2DZ1600029', 'shit': 12368549}\n",
      "\n",
      "{'isrc': 'USQX91500448', 'shit': 15620212}\n",
      "\n",
      "{'isrc': 'USUS11600249', 'shit': 15950974}\n",
      "\n",
      "{'isrc': 'USAT21603388', 'shit': 15092660}\n",
      "\n",
      "{'isrc': 'USSM11507976', 'shit': 15797134}\n",
      "\n"
     ]
    }
   ],
   "source": [
    "song_data_dict = {}\n",
    "for k, v in isrc_dict.items():\n",
    "    print(v)\n",
    "    song_data_dict[v[\"isrc\"]] = cm.track(str(v[\"shit\"]))"
   ]
  },
  {
   "cell_type": "code",
   "execution_count": 123,
   "metadata": {},
   "outputs": [],
   "source": [
    "song_features_dict = {} \n",
    "for k, v in song_data_dict.items():\n",
    "    song_features_dict[k] = v['obj']['cm_audio_features']"
   ]
  },
  {
   "cell_type": "code",
   "execution_count": 124,
   "metadata": {},
   "outputs": [
    {
     "data": {
      "text/plain": [
       "{'USAR10100783': {'key': 4,\n",
       "  'mode': 0,\n",
       "  'danceability': 0.838,\n",
       "  'energy': 0.837,\n",
       "  'speechiness': 0.275,\n",
       "  'acousticness': 0.199,\n",
       "  'instrumentalness': 0,\n",
       "  'liveness': 0.0914,\n",
       "  'valence': 0.693,\n",
       "  'tempo': 95.029,\n",
       "  'loudness': -3.9},\n",
       " 'USAT21603407': {'key': 7,\n",
       "  'mode': 1,\n",
       "  'danceability': 0.679,\n",
       "  'energy': 0.662,\n",
       "  'speechiness': 0.0773,\n",
       "  'acousticness': 0.151,\n",
       "  'instrumentalness': 0,\n",
       "  'liveness': 0.376,\n",
       "  'valence': 0.357,\n",
       "  'tempo': 90.054,\n",
       "  'loudness': -5.861},\n",
       " 'USAR18600005': {'key': 11,\n",
       "  'mode': 0,\n",
       "  'danceability': 0.966,\n",
       "  'energy': 0.954,\n",
       "  'speechiness': 0.229,\n",
       "  'acousticness': 0.00685,\n",
       "  'instrumentalness': 0,\n",
       "  'liveness': 0.0869,\n",
       "  'valence': 0.962,\n",
       "  'tempo': 128.126,\n",
       "  'loudness': -9.226},\n",
       " 'USAT21404380': {'key': 2,\n",
       "  'mode': 1,\n",
       "  'danceability': 0.647,\n",
       "  'energy': 0.776,\n",
       "  'speechiness': 0.0466,\n",
       "  'acousticness': 0.00456,\n",
       "  'instrumentalness': 0.0261,\n",
       "  'liveness': 0.0535,\n",
       "  'valence': 0.555,\n",
       "  'tempo': 101.991,\n",
       "  'loudness': -5.801},\n",
       " 'USAT21602118': {'key': 10,\n",
       "  'mode': 0,\n",
       "  'danceability': 0.596,\n",
       "  'energy': 0.746,\n",
       "  'speechiness': 0.076,\n",
       "  'acousticness': 0.134,\n",
       "  'instrumentalness': 1.01e-06,\n",
       "  'liveness': 0.299,\n",
       "  'valence': 0.473,\n",
       "  'tempo': 99.03,\n",
       "  'loudness': -4.411},\n",
       " 'USAT21602970': {'key': 0,\n",
       "  'mode': 0,\n",
       "  'danceability': 0.675,\n",
       "  'energy': 0.937,\n",
       "  'speechiness': 0.0509,\n",
       "  'acousticness': 0.152,\n",
       "  'instrumentalness': 0,\n",
       "  'liveness': 0.154,\n",
       "  'valence': 0.57,\n",
       "  'tempo': 103.961,\n",
       "  'loudness': -3.525},\n",
       " 'USAT21600001': {'key': 8,\n",
       "  'mode': 1,\n",
       "  'danceability': 0.549,\n",
       "  'energy': 0.834,\n",
       "  'speechiness': 0.0515,\n",
       "  'acousticness': 0.052,\n",
       "  'instrumentalness': 0,\n",
       "  'liveness': 0.121,\n",
       "  'valence': 0.193,\n",
       "  'tempo': 129.011,\n",
       "  'loudness': -2.75},\n",
       " 'GB2DZ1600029': {'key': 7,\n",
       "  'mode': 0,\n",
       "  'danceability': 0.392,\n",
       "  'energy': 0.892,\n",
       "  'speechiness': 0.273,\n",
       "  'acousticness': 0.0306,\n",
       "  'instrumentalness': 0.0267,\n",
       "  'liveness': 0.146,\n",
       "  'valence': 0.435,\n",
       "  'tempo': 112.161,\n",
       "  'loudness': -5.948},\n",
       " 'USQX91500448': {'key': 4,\n",
       "  'mode': 1,\n",
       "  'danceability': 0.825,\n",
       "  'energy': 0.701,\n",
       "  'speechiness': 0.0374,\n",
       "  'acousticness': 0.19,\n",
       "  'instrumentalness': 0.0368,\n",
       "  'liveness': 0.176,\n",
       "  'valence': 0.61,\n",
       "  'tempo': 118.033,\n",
       "  'loudness': -8.814},\n",
       " 'USUS11600249': {'key': 0,\n",
       "  'mode': 0,\n",
       "  'danceability': 0.569,\n",
       "  'energy': 0.772,\n",
       "  'speechiness': 0.185,\n",
       "  'acousticness': 0.0777,\n",
       "  'instrumentalness': 0.000796,\n",
       "  'liveness': 0.118,\n",
       "  'valence': 0.667,\n",
       "  'tempo': 126.342,\n",
       "  'loudness': -4.133},\n",
       " 'USAT21603388': {'key': 8,\n",
       "  'mode': 1,\n",
       "  'danceability': 0.67,\n",
       "  'energy': 0.931,\n",
       "  'speechiness': 0.0985,\n",
       "  'acousticness': 0.082,\n",
       "  'instrumentalness': 2.76e-05,\n",
       "  'liveness': 0.326,\n",
       "  'valence': 0.787,\n",
       "  'tempo': 146.028,\n",
       "  'loudness': -2.905},\n",
       " 'USSM11507976': {'key': 7,\n",
       "  'mode': 1,\n",
       "  'danceability': 0.617,\n",
       "  'energy': 0.866,\n",
       "  'speechiness': 0.0718,\n",
       "  'acousticness': 0.000511,\n",
       "  'instrumentalness': 2.96e-05,\n",
       "  'liveness': 0.113,\n",
       "  'valence': 0.397,\n",
       "  'tempo': 124.002,\n",
       "  'loudness': -4.896}}"
      ]
     },
     "execution_count": 124,
     "metadata": {},
     "output_type": "execute_result"
    }
   ],
   "source": [
    "song_features_dict"
   ]
  },
  {
   "cell_type": "code",
   "execution_count": 125,
   "metadata": {},
   "outputs": [],
   "source": [
    "df = pd.DataFrame.from_dict(song_features_dict).T"
   ]
  },
  {
   "cell_type": "code",
   "execution_count": 126,
   "metadata": {},
   "outputs": [],
   "source": [
    "def sim_function(x, y):\n",
    "    return 1. / (1. + np.linalg.norm(x - y, 2))"
   ]
  },
  {
   "cell_type": "code",
   "execution_count": 127,
   "metadata": {},
   "outputs": [],
   "source": [
    "n = len(df)\n",
    "sim_song = {}\n",
    "X = np.zeros((n, 11))\n",
    "\n",
    "for i in range(n):\n",
    "    X[i] = df.iloc[i]\n",
    "    \n",
    "for i in range(n):\n",
    "    x = df.iloc[i]\n",
    "    sim_song[x.name] = 0\n",
    "    buffer = 0\n",
    "    for j in range(n):\n",
    "        if i == j:\n",
    "            continue\n",
    "            \n",
    "        y = df.iloc[j]\n",
    "        \n",
    "        sim = sim_function(x, y)\n",
    "        if sim > buffer:\n",
    "            sim_song[x.name] = y.name\n",
    "            buffer = sim"
   ]
  },
  {
   "cell_type": "code",
   "execution_count": 128,
   "metadata": {},
   "outputs": [
    {
     "data": {
      "text/plain": [
       "PCA(copy=True, iterated_power='auto', n_components=2, random_state=None,\n",
       "  svd_solver='auto', tol=0.0, whiten=False)"
      ]
     },
     "execution_count": 128,
     "metadata": {},
     "output_type": "execute_result"
    }
   ],
   "source": [
    "from sklearn.decomposition import PCA\n",
    "\n",
    "pca = PCA(n_components=2)\n",
    "pca.fit(X)"
   ]
  },
  {
   "cell_type": "code",
   "execution_count": 129,
   "metadata": {},
   "outputs": [
    {
     "data": {
      "image/png": "[encoded data removed]",
      "text/plain": [
       "<Figure size 806.4x504 with 1 Axes>"
      ]
     },
     "metadata": {
      "needs_background": "light"
     },
     "output_type": "display_data"
    }
   ],
   "source": [
    "z = pca.transform(X)\n",
    "\n",
    "fig, ax = plt.subplots(nrows=1, ncols=1, figsize=(7 * 1.6, 7))\n",
    "\n",
    "for i, vec in enumerate(z):\n",
    "    ax.scatter(vec[0], vec[1], s=150, label=df.iloc[i].name)\n",
    "\n",
    "    ax.spines['right'].set_visible(False)\n",
    "    ax.spines['top'].set_visible(False)\n",
    "\n",
    "    \n",
    "plt.legend(loc=\"best\", ncol=5, bbox_to_anchor=(0, 1.02, 1, 0.102),\n",
    "          frameon=False, borderpad=2)\n",
    "plt.show()"
   ]
  },
  {
   "cell_type": "code",
   "execution_count": 130,
   "metadata": {},
   "outputs": [
    {
     "data": {
      "text/plain": [
       "'USAR10100783'"
      ]
     },
     "execution_count": 130,
     "metadata": {},
     "output_type": "execute_result"
    }
   ],
   "source": [
    "df.iloc[0].name"
   ]
  },
  {
   "cell_type": "code",
   "execution_count": 131,
   "metadata": {},
   "outputs": [
    {
     "data": {
      "text/plain": [
       "'USAT21603407'"
      ]
     },
     "execution_count": 131,
     "metadata": {},
     "output_type": "execute_result"
    }
   ],
   "source": [
    "df.iloc[1].name"
   ]
  },
  {
   "cell_type": "code",
   "execution_count": 132,
   "metadata": {},
   "outputs": [
    {
     "data": {
      "text/plain": [
       "'USAR18600005'"
      ]
     },
     "execution_count": 132,
     "metadata": {},
     "output_type": "execute_result"
    }
   ],
   "source": [
    "df.iloc[2].name"
   ]
  },
  {
   "cell_type": "code",
   "execution_count": null,
   "metadata": {},
   "outputs": [],
   "source": []
  }
 ],
 "metadata": {
  "kernelspec": {
   "display_name": "Python 3",
   "language": "python",
   "name": "python3"
  },
  "language_info": {
   "codemirror_mode": {
    "name": "ipython",
    "version": 3
   },
   "file_extension": ".py",
   "mimetype": "text/x-python",
   "name": "python",
   "nbconvert_exporter": "python",
   "pygments_lexer": "ipython3",
   "version": "3.7.0"
  }
 },
 "nbformat": 4,
 "nbformat_minor": 2
}
