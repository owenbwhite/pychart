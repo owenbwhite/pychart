{
 "cells": [
  {
   "cell_type": "code",
   "execution_count": 29,
   "metadata": {},
   "outputs": [],
   "source": [
    "import pickle\n",
    "\n",
    "with open('100.pickle', 'rb') as handle:\n",
    "    one = pickle.load(handle)\n",
    "with open('200.pickle', 'rb') as handle:\n",
    "    two = pickle.load(handle)\n",
    "with open('300.pickle', 'rb') as handle:\n",
    "    three = pickle.load(handle)\n",
    "with open('400.pickle', 'rb') as handle:\n",
    "    four = pickle.load(handle)\n",
    "with open('500.pickle', 'rb') as handle:\n",
    "    five = pickle.load(handle)\n"
   ]
  },
  {
   "cell_type": "code",
   "execution_count": 30,
   "metadata": {},
   "outputs": [
    {
     "data": {
      "text/plain": [
       "dict"
      ]
     },
     "execution_count": 30,
     "metadata": {},
     "output_type": "execute_result"
    }
   ],
   "source": [
    "type(one)"
   ]
  },
  {
   "cell_type": "code",
   "execution_count": 31,
   "metadata": {},
   "outputs": [],
   "source": [
    "def Merge(dict1, dict2): \n",
    "    return(dict2.update(dict1))\n",
    "Merge(one, two)"
   ]
  },
  {
   "cell_type": "code",
   "execution_count": 38,
   "metadata": {},
   "outputs": [],
   "source": [
    "Merge(five, two)"
   ]
  },
  {
   "cell_type": "code",
   "execution_count": 40,
   "metadata": {
    "scrolled": true
   },
   "outputs": [],
   "source": [
    "final = two"
   ]
  },
  {
   "cell_type": "code",
   "execution_count": 44,
   "metadata": {},
   "outputs": [],
   "source": [
    "def get_cm_id(search_dict):\n",
    "    isrc_dict = {}\n",
    "    for k, v in search_dict.items():\n",
    "        try:\n",
    "            print((v.keys()))\n",
    "            cm_id = v['obj']['tracks'][0]['id']\n",
    "            name_of_song = v[\"obj\"][\"tracks\"][0][\"name\"]\n",
    "            isrc_dict[name_of_song] = dict(cm_id=cm_id, isrc=k)\n",
    "    #         time.sleep(5)\n",
    "        except TypeError:\n",
    "            print(f'{k} not found')\n",
    "#             time.sleep(5)\n",
    "\n",
    "    return isrc_dict"
   ]
  },
  {
   "cell_type": "code",
   "execution_count": 45,
   "metadata": {},
   "outputs": [
    {
     "name": "stdout",
     "output_type": "stream",
     "text": [
      "<class 'dict'>\n",
      "<class 'dict'>\n",
      "<class 'dict'>\n",
      "<class 'dict'>\n",
      "USAT21901061 not found\n",
      "<class 'dict'>\n",
      "<class 'dict'>\n",
      "<class 'dict'>\n",
      "<class 'dict'>\n",
      "<class 'dict'>\n",
      "USAT21901997 not found\n",
      "<class 'dict'>\n",
      "USAT21901994 not found\n",
      "<class 'dict'>\n",
      "<class 'dict'>\n",
      "<class 'dict'>\n",
      "<class 'dict'>\n",
      "<class 'dict'>\n",
      "US39N1900008 not found\n",
      "<class 'dict'>\n",
      "USAT21901998 not found\n",
      "<class 'dict'>\n",
      "USAT21901841 not found\n",
      "<class 'dict'>\n",
      "USAT21901838 not found\n",
      "<class 'dict'>\n",
      "USAT21901999 not found\n",
      "<class 'dict'>\n",
      "USAT21902001 not found\n",
      "<class 'dict'>\n",
      "USAT21902118 not found\n",
      "<class 'dict'>\n",
      "USAT21901839 not found\n",
      "<class 'dict'>\n",
      "USAT21901840 not found\n",
      "<class 'dict'>\n",
      "US39N1900009 not found\n",
      "<class 'dict'>\n"
     ]
    },
    {
     "ename": "IndexError",
     "evalue": "list index out of range",
     "output_type": "error",
     "traceback": [
      "\u001b[0;31m---------------------------------------------------------------------------\u001b[0m",
      "\u001b[0;31mIndexError\u001b[0m                                Traceback (most recent call last)",
      "\u001b[0;32m<ipython-input-45-6011c2578957>\u001b[0m in \u001b[0;36m<module>\u001b[0;34m\u001b[0m\n\u001b[0;32m----> 1\u001b[0;31m \u001b[0mnew_stuff\u001b[0m \u001b[0;34m=\u001b[0m \u001b[0mget_cm_id\u001b[0m\u001b[0;34m(\u001b[0m\u001b[0mfinal\u001b[0m\u001b[0;34m)\u001b[0m\u001b[0;34m\u001b[0m\u001b[0m\n\u001b[0m",
      "\u001b[0;32m<ipython-input-44-bc31b215b8b3>\u001b[0m in \u001b[0;36mget_cm_id\u001b[0;34m(search_dict)\u001b[0m\n\u001b[1;32m      4\u001b[0m         \u001b[0;32mtry\u001b[0m\u001b[0;34m:\u001b[0m\u001b[0;34m\u001b[0m\u001b[0m\n\u001b[1;32m      5\u001b[0m             \u001b[0mprint\u001b[0m\u001b[0;34m(\u001b[0m\u001b[0mtype\u001b[0m\u001b[0;34m(\u001b[0m\u001b[0mv\u001b[0m\u001b[0;34m)\u001b[0m\u001b[0;34m)\u001b[0m\u001b[0;34m\u001b[0m\u001b[0m\n\u001b[0;32m----> 6\u001b[0;31m             \u001b[0mcm_id\u001b[0m \u001b[0;34m=\u001b[0m \u001b[0mv\u001b[0m\u001b[0;34m[\u001b[0m\u001b[0;34m'obj'\u001b[0m\u001b[0;34m]\u001b[0m\u001b[0;34m[\u001b[0m\u001b[0;34m'tracks'\u001b[0m\u001b[0;34m]\u001b[0m\u001b[0;34m[\u001b[0m\u001b[0;36m0\u001b[0m\u001b[0;34m]\u001b[0m\u001b[0;34m[\u001b[0m\u001b[0;34m'id'\u001b[0m\u001b[0;34m]\u001b[0m\u001b[0;34m\u001b[0m\u001b[0m\n\u001b[0m\u001b[1;32m      7\u001b[0m             \u001b[0mname_of_song\u001b[0m \u001b[0;34m=\u001b[0m \u001b[0mv\u001b[0m\u001b[0;34m[\u001b[0m\u001b[0;34m\"obj\"\u001b[0m\u001b[0;34m]\u001b[0m\u001b[0;34m[\u001b[0m\u001b[0;34m\"tracks\"\u001b[0m\u001b[0;34m]\u001b[0m\u001b[0;34m[\u001b[0m\u001b[0;36m0\u001b[0m\u001b[0;34m]\u001b[0m\u001b[0;34m[\u001b[0m\u001b[0;34m\"name\"\u001b[0m\u001b[0;34m]\u001b[0m\u001b[0;34m\u001b[0m\u001b[0m\n\u001b[1;32m      8\u001b[0m             \u001b[0misrc_dict\u001b[0m\u001b[0;34m[\u001b[0m\u001b[0mname_of_song\u001b[0m\u001b[0;34m]\u001b[0m \u001b[0;34m=\u001b[0m \u001b[0mdict\u001b[0m\u001b[0;34m(\u001b[0m\u001b[0mcm_id\u001b[0m\u001b[0;34m=\u001b[0m\u001b[0mcm_id\u001b[0m\u001b[0;34m,\u001b[0m \u001b[0misrc\u001b[0m\u001b[0;34m=\u001b[0m\u001b[0mk\u001b[0m\u001b[0;34m)\u001b[0m\u001b[0;34m\u001b[0m\u001b[0m\n",
      "\u001b[0;31mIndexError\u001b[0m: list index out of range"
     ]
    }
   ],
   "source": [
    "new_stuff = get_cm_id(final)"
   ]
  },
  {
   "cell_type": "code",
   "execution_count": 15,
   "metadata": {},
   "outputs": [
    {
     "data": {
      "text/plain": [
       "{'Ms. Jackson': {'cm_id': 15048628, 'isrc': 'USAR10100783'},\n",
       " 'Savage (feat. Flux Pavillion & MAX)': {'cm_id': 15092670,\n",
       "  'isrc': 'USAT21603407'},\n",
       " \"It's Tricky\": {'cm_id': 15051716, 'isrc': 'USAR18600005'},\n",
       " 'Classic (feat. POWERS) - RAC Remix': {'cm_id': 15089187,\n",
       "  'isrc': 'USAT21404380'},\n",
       " 'Did You Wrong (feat. MAX)': {'cm_id': 15092020, 'isrc': 'USAT21602118'},\n",
       " 'Taped Up Heart (feat. Clara Mae)': {'cm_id': 15092425,\n",
       "  'isrc': 'USAT21602970'},\n",
       " 'Aftershock (feat. Jacquie Lee)': {'cm_id': 15091180, 'isrc': 'USAT21600001'},\n",
       " 'LA (feat. Trombone Shorty)': {'cm_id': 12368549, 'isrc': 'GB2DZ1600029'},\n",
       " 'Cheerleader - Felix Jaehn Remix Radio Edit': {'cm_id': 15620212,\n",
       "  'isrc': 'USQX91500448'},\n",
       " 'Bonbon - English Version': {'cm_id': 15950974, 'isrc': 'USUS11600249'},\n",
       " 'Broccoli (feat. Lil Yachty) - BUSTED by Herobust': {'cm_id': 15092660,\n",
       "  'isrc': 'USAT21603388'},\n",
       " 'Physical': {'cm_id': 15797134, 'isrc': 'USSM11507976'},\n",
       " 'Grown Up': {'cm_id': 15798692, 'isrc': 'USSM11607593'},\n",
       " 'Let Me Know': {'cm_id': 15796086, 'isrc': 'USSM11504788'},\n",
       " 'No Pressure - Acoustic': {'cm_id': 13095924, 'isrc': 'GBVHV1500017'},\n",
       " 'I Love It': {'cm_id': 15086363, 'isrc': 'USAT21202802'},\n",
       " 'Tell Me You Love Me': {'cm_id': 20323507, 'isrc': 'USAT21702356'},\n",
       " 'Make You Feel - Hotel Garuda Remix': {'cm_id': 15950631,\n",
       "  'isrc': 'USUS11500011'},\n",
       " 'Salvage (Up All Night) [feat. Poo Bear]': {'cm_id': 21527690,\n",
       "  'isrc': 'USAT21702355'},\n",
       " 'Written In The Scars (feat. Wrabel)': {'cm_id': 21162746,\n",
       "  'isrc': 'USAT21702358'},\n",
       " 'Symphony (feat. Zara Larsson) - Acoustic Version': {'cm_id': 12450112,\n",
       "  'isrc': 'GBAHS1700390'},\n",
       " 'Feel The Love - feat. John Newman [Cutline Remix]': {'cm_id': 12448847,\n",
       "  'isrc': 'GBAHS1200176'},\n",
       " 'Lay It All On Me (feat. Ed Sheeran) - Robin Schulz Remix; Radio Edit': {'cm_id': 12449810,\n",
       "  'isrc': 'GBAHS1500529'},\n",
       " 'Rather Be': {'cm_id': 12449229, 'isrc': 'GBAHS1300498'},\n",
       " 'Kiss The Sky (feat. Wyclef Jean)': {'cm_id': 15091048,\n",
       "  'isrc': 'USAT21503981'},\n",
       " 'All My Love (feat. Conor Maynard)': {'cm_id': 21317797,\n",
       "  'isrc': 'USAT21701770'},\n",
       " 'Mine Luv (feat. H.E.R.)': {'cm_id': 17913372, 'isrc': 'USAT21705301'},\n",
       " 'What The Hell Happened To Us (feat. Kailee Morgue)': {'cm_id': 18459759,\n",
       "  'isrc': 'USSM11800516'},\n",
       " 'Straightjacket - Shallou Remix': {'cm_id': 16952629, 'isrc': 'USSM11707427'},\n",
       " 'Solo (feat. Demi Lovato)': {'cm_id': 19252730, 'isrc': 'GBAHS1800328'},\n",
       " 'MOVE TO MIAMI - Darell Version': {'cm_id': 20016489, 'isrc': 'USRC11802524'},\n",
       " 'Panama City Beach': {'cm_id': 14169451, 'isrc': 'SEYOK1615482'},\n",
       " 'Spaceship (feat. Uffie)': {'cm_id': 19252349, 'isrc': 'USAT21802240'},\n",
       " 'Finest Hour (feat. Abir)': {'cm_id': 19031247, 'isrc': 'USAT21801456'},\n",
       " 'Faded Away (feat. Icona Pop)': {'cm_id': 19130866, 'isrc': 'USAT21801876'},\n",
       " \"My Lovin'\": {'cm_id': 15301078, 'isrc': 'USEW19200001'},\n",
       " 'And Wot?': {'cm_id': 12529988, 'isrc': 'GBAYE1600165'},\n",
       " 'Emergency': {'cm_id': 15090076, 'isrc': 'USAT21501475'},\n",
       " 'No Money': {'cm_id': 15091521, 'isrc': 'USAT21600941'},\n",
       " 'Runaway (U & I)': {'cm_id': 15089147, 'isrc': 'USAT21404265'},\n",
       " 'Sun Comes Up': {'cm_id': 12450140, 'isrc': 'GBAHS1700527'},\n",
       " 'Twisted (Over You)': {'cm_id': 17206340, 'isrc': 'GBARL1701900'},\n",
       " 'Did You See': {'cm_id': 12494503, 'isrc': 'GBARL1700098'},\n",
       " 'Steal My Sunshine': {'cm_id': 15822885, 'isrc': 'USSM19900189'},\n",
       " 'The Final Countdown': {'cm_id': 15813683, 'isrc': 'USSM18600692'},\n",
       " 'Walk Like An Egyptian': {'cm_id': 15813239, 'isrc': 'USSM18500397'},\n",
       " 'No Scrubs': {'cm_id': 15483728, 'isrc': 'USLF20000006'},\n",
       " \"This One's for the Girls\": {'cm_id': 15709874, 'isrc': 'USRN10300087'},\n",
       " 'Suds in the Bucket': {'cm_id': 15709627, 'isrc': 'USRN10100725'},\n",
       " 'Freak On A Leash': {'cm_id': 15821230, 'isrc': '\\nUSSM19801755\\n'},\n",
       " 'Down Under': {'cm_id': 15811756, 'isrc': '\\nUSSM18100411\\n'}}"
      ]
     },
     "execution_count": 15,
     "metadata": {},
     "output_type": "execute_result"
    }
   ],
   "source": [
    "(new_stuff)"
   ]
  },
  {
   "cell_type": "code",
   "execution_count": null,
   "metadata": {},
   "outputs": [],
   "source": []
  }
 ],
 "metadata": {
  "kernelspec": {
   "display_name": "Python 3",
   "language": "python",
   "name": "python3"
  },
  "language_info": {
   "codemirror_mode": {
    "name": "ipython",
    "version": 3
   },
   "file_extension": ".py",
   "mimetype": "text/x-python",
   "name": "python",
   "nbconvert_exporter": "python",
   "pygments_lexer": "ipython3",
   "version": "3.7.0"
  }
 },
 "nbformat": 4,
 "nbformat_minor": 2
}
