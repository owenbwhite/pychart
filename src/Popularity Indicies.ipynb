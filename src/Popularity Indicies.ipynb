{
 "cells": [
  {
   "cell_type": "code",
   "execution_count": 29,
   "metadata": {},
   "outputs": [],
   "source": [
    "from new import potential_stems\n",
    "from client import Chartmetric\n",
    "from config import chartmetric_token\n",
    "import pandas as pd\n",
    "from tqdm import tqdm\n",
    "import time"
   ]
  },
  {
   "cell_type": "code",
   "execution_count": 30,
   "metadata": {},
   "outputs": [],
   "source": [
    "cm = Chartmetric(chartmetric_token)"
   ]
  },
  {
   "cell_type": "code",
   "execution_count": 31,
   "metadata": {},
   "outputs": [],
   "source": [
    "df = pd.DataFrame(potential_stems.split('\\n'))\n",
    "df.rename(columns = {0: \"ISRC\"}, inplace=True)\n",
    "df = df.loc[df[\"ISRC\"] != \"\"]\n"
   ]
  },
  {
   "cell_type": "code",
   "execution_count": 32,
   "metadata": {},
   "outputs": [
    {
     "name": "stderr",
     "output_type": "stream",
     "text": [
      "\n",
      "  0%|          | 0/32 [00:00<?, ?it/s]\u001b[A\n",
      "  3%|▎         | 1/32 [00:04<02:21,  4.55s/it]\u001b[A\n",
      "  6%|▋         | 2/32 [00:09<02:16,  4.53s/it]\u001b[A\n",
      "  9%|▉         | 3/32 [00:13<02:10,  4.50s/it]\u001b[A\n",
      " 12%|█▎        | 4/32 [00:21<02:32,  5.45s/it]\u001b[A\n",
      " 16%|█▌        | 5/32 [00:30<03:02,  6.77s/it]\u001b[A\n",
      " 19%|█▉        | 6/32 [00:41<03:21,  7.75s/it]\u001b[A\n",
      " 22%|██▏       | 7/32 [00:56<04:12, 10.09s/it]\u001b[A\n",
      " 25%|██▌       | 8/32 [01:13<04:51, 12.13s/it]\u001b[A\n",
      " 28%|██▊       | 9/32 [01:23<04:22, 11.43s/it]\u001b[A\n",
      " 31%|███▏      | 10/32 [01:39<04:40, 12.76s/it]\u001b[A\n",
      " 34%|███▍      | 11/32 [01:53<04:38, 13.25s/it]\u001b[A\n",
      " 38%|███▊      | 12/32 [02:03<04:05, 12.26s/it]\u001b[A\n",
      " 41%|████      | 13/32 [02:12<03:34, 11.28s/it]\u001b[A\n",
      " 44%|████▍     | 14/32 [02:20<03:05, 10.29s/it]\u001b[A\n",
      " 47%|████▋     | 15/32 [02:25<02:30,  8.86s/it]\u001b[A\n",
      " 50%|█████     | 16/32 [02:37<02:33,  9.61s/it]\u001b[A\n",
      " 53%|█████▎    | 17/32 [02:55<03:02, 12.17s/it]\u001b[A\n",
      " 56%|█████▋    | 18/32 [03:05<02:43, 11.67s/it]\u001b[A\n",
      " 59%|█████▉    | 19/32 [03:18<02:35, 11.93s/it]\u001b[A\n",
      " 62%|██████▎   | 20/32 [03:42<03:05, 15.42s/it]\u001b[A\n",
      " 66%|██████▌   | 21/32 [03:52<02:32, 13.90s/it]\u001b[A\n",
      " 69%|██████▉   | 22/32 [04:00<02:02, 12.21s/it]\u001b[A\n",
      " 72%|███████▏  | 23/32 [04:08<01:39, 11.04s/it]\u001b[A\n",
      " 75%|███████▌  | 24/32 [04:19<01:26, 10.86s/it]\u001b[A\n",
      " 78%|███████▊  | 25/32 [04:28<01:11, 10.18s/it]\u001b[A\n",
      " 81%|████████▏ | 26/32 [04:39<01:03, 10.66s/it]\u001b[A\n",
      " 84%|████████▍ | 27/32 [04:54<01:00, 12.01s/it]\u001b[A\n",
      " 88%|████████▊ | 28/32 [05:08<00:49, 12.43s/it]\u001b[A\n",
      " 91%|█████████ | 29/32 [06:01<01:14, 24.73s/it]\u001b[A\n",
      " 94%|█████████▍| 30/32 [06:12<00:40, 20.44s/it]\u001b[A\n",
      " 97%|█████████▋| 31/32 [06:21<00:17, 17.21s/it]\u001b[A\n",
      "100%|██████████| 32/32 [06:37<00:00, 16.68s/it]\u001b[A"
     ]
    }
   ],
   "source": [
    "isrc_dict = {}\n",
    "searches = {}\n",
    "for test in tqdm(df.ISRC):\n",
    "    searches[test] = cm.search(test.strip())\n",
    "    time.sleep(4)"
   ]
  },
  {
   "cell_type": "code",
   "execution_count": 37,
   "metadata": {},
   "outputs": [
    {
     "name": "stdout",
     "output_type": "stream",
     "text": [
      "USWV40600029 not found\n",
      "USC4R1601970 not found\n",
      "USC4R1802519 not found\n",
      "USC4R1802397 not found\n",
      "USC4R1702105 not found\n"
     ]
    }
   ],
   "source": [
    "final = searches\n",
    "def get_cm_id(search_dict):\n",
    "    isrc_dict = {}\n",
    "    for k, v in search_dict.items():\n",
    "        try:\n",
    "            obj_ind = v['obj']\n",
    "            if not obj_ind['tracks']:\n",
    "                pass\n",
    "            else:\n",
    "                cm_id = obj_ind['tracks'][0]['id']\n",
    "                name_of_song = v[\"obj\"][\"tracks\"][0][\"name\"]\n",
    "                isrc_dict[name_of_song] = dict(cm_id=cm_id, isrc=k)\n",
    "    #         time.sleep(5)\n",
    "        except TypeError:\n",
    "            print(f'{k} not found')\n",
    "#             time.sleep(5)\n",
    "\n",
    "    return isrc_dict\n",
    "new_stuff = get_cm_id(final)"
   ]
  },
  {
   "cell_type": "code",
   "execution_count": 38,
   "metadata": {},
   "outputs": [
    {
     "name": "stderr",
     "output_type": "stream",
     "text": [
      "\n",
      "  0%|          | 0/27 [00:00<?, ?it/s]\u001b[A\n",
      "  4%|▎         | 1/27 [00:09<04:17,  9.92s/it]\u001b[A\n",
      "  7%|▋         | 2/27 [00:14<03:28,  8.33s/it]\u001b[A\n",
      " 11%|█         | 3/27 [00:19<02:53,  7.24s/it]\u001b[A\n",
      " 15%|█▍        | 4/27 [00:23<02:28,  6.48s/it]\u001b[A\n",
      " 19%|█▊        | 5/27 [00:28<02:11,  5.98s/it]\u001b[A\n",
      " 22%|██▏       | 6/27 [00:33<01:59,  5.69s/it]\u001b[A\n",
      " 26%|██▌       | 7/27 [00:38<01:47,  5.35s/it]\u001b[A\n",
      " 30%|██▉       | 8/27 [00:43<01:38,  5.16s/it]\u001b[A\n",
      " 33%|███▎      | 9/27 [00:47<01:31,  5.06s/it]\u001b[A\n",
      " 37%|███▋      | 10/27 [00:52<01:24,  4.96s/it]\u001b[A\n",
      " 41%|████      | 11/27 [00:57<01:18,  4.92s/it]\u001b[A\n",
      " 44%|████▍     | 12/27 [01:03<01:17,  5.17s/it]\u001b[A\n",
      " 48%|████▊     | 13/27 [01:08<01:11,  5.09s/it]\u001b[A\n",
      " 52%|█████▏    | 14/27 [01:12<01:05,  5.00s/it]\u001b[A\n",
      " 56%|█████▌    | 15/27 [01:17<00:58,  4.89s/it]\u001b[A\n",
      " 59%|█████▉    | 16/27 [01:22<00:52,  4.81s/it]\u001b[A\n",
      " 63%|██████▎   | 17/27 [01:26<00:47,  4.75s/it]\u001b[A\n",
      " 67%|██████▋   | 18/27 [01:31<00:42,  4.73s/it]\u001b[A\n",
      " 70%|███████   | 19/27 [01:35<00:37,  4.67s/it]\u001b[A\n",
      " 74%|███████▍  | 20/27 [01:40<00:32,  4.66s/it]\u001b[A\n",
      " 78%|███████▊  | 21/27 [01:45<00:28,  4.68s/it]\u001b[A\n",
      " 81%|████████▏ | 22/27 [03:12<02:27, 29.49s/it]\u001b[A\n",
      " 85%|████████▌ | 23/27 [03:17<01:28, 22.06s/it]\u001b[A\n",
      " 89%|████████▉ | 24/27 [03:22<00:51, 17.12s/it]\u001b[A\n",
      " 93%|█████████▎| 25/27 [03:27<00:26, 13.35s/it]\u001b[A\n",
      " 96%|█████████▋| 26/27 [03:32<00:10, 10.75s/it]\u001b[A\n",
      "100%|██████████| 27/27 [03:36<00:00,  8.89s/it]\u001b[A"
     ]
    }
   ],
   "source": [
    "song_data_dict = {}\n",
    "for k, v in tqdm(new_stuff.items()):\n",
    "    song_data_dict[k] = cm.track(str(v['cm_id']))\n",
    "    time.sleep(4)"
   ]
  },
  {
   "cell_type": "code",
   "execution_count": 40,
   "metadata": {},
   "outputs": [
    {
     "data": {
      "text/plain": [
       "dict_keys(['Roma Fade', 'Wrecking Ball', 'Gook', 'ULT', 'Good Night', 'Bring Me To Life', 'Going Under', 'High', 'Masters', 'The Only Heirs', 'KILL4ME', 'Killing Strangers', 'The Devil Beneath My Feet', 'Just The Way You Are', 'Country Song', 'Fake It - Clean (little) Version', 'Remedy', 'Pills', 'MANIFEST', 'WHERE THE SKIES END', 'My Demons', 'Ricochet', 'Satellite', 'Just Dancing', 'Radio', 'The Glow', \"Ain't It Fun\"])"
      ]
     },
     "execution_count": 40,
     "metadata": {},
     "output_type": "execute_result"
    }
   ],
   "source": [
    "song_data_dict.keys()"
   ]
  },
  {
   "cell_type": "code",
   "execution_count": 52,
   "metadata": {},
   "outputs": [],
   "source": [
    "def get_statistics(song_dict):\n",
    "    stats_dict = {}\n",
    "\n",
    "    for k, v in song_dict.items():\n",
    "        stats_dict[k] = v['obj']['cm_statistics']\n",
    "        \n",
    "    return stats_dict\n",
    "lol = get_statistics(song_data_dict)"
   ]
  },
  {
   "cell_type": "code",
   "execution_count": 67,
   "metadata": {},
   "outputs": [
    {
     "data": {
      "text/html": [
       "<div>\n",
       "<style scoped>\n",
       "    .dataframe tbody tr th:only-of-type {\n",
       "        vertical-align: middle;\n",
       "    }\n",
       "\n",
       "    .dataframe tbody tr th {\n",
       "        vertical-align: top;\n",
       "    }\n",
       "\n",
       "    .dataframe thead th {\n",
       "        text-align: right;\n",
       "    }\n",
       "</style>\n",
       "<table border=\"1\" class=\"dataframe\">\n",
       "  <thead>\n",
       "    <tr style=\"text-align: right;\">\n",
       "      <th></th>\n",
       "      <th>de_playlist_total_reach</th>\n",
       "      <th>num_am_editorial_playlists</th>\n",
       "      <th>num_am_playlists</th>\n",
       "      <th>num_az_editorial_playlists</th>\n",
       "      <th>num_az_playlists</th>\n",
       "      <th>num_de_editorial_playlists</th>\n",
       "      <th>num_de_playlists</th>\n",
       "      <th>num_sp_editorial_playlists</th>\n",
       "      <th>num_sp_playlists</th>\n",
       "      <th>num_yt_editorial_playlists</th>\n",
       "      <th>num_yt_playlists</th>\n",
       "      <th>sp_playlist_total_reach</th>\n",
       "      <th>sp_popularity</th>\n",
       "      <th>yt_playlist_total_reach</th>\n",
       "    </tr>\n",
       "  </thead>\n",
       "  <tbody>\n",
       "    <tr>\n",
       "      <th>Roma Fade</th>\n",
       "      <td>32881</td>\n",
       "      <td>0</td>\n",
       "      <td>2</td>\n",
       "      <td>0</td>\n",
       "      <td>0</td>\n",
       "      <td>0</td>\n",
       "      <td>2</td>\n",
       "      <td>0</td>\n",
       "      <td>157</td>\n",
       "      <td>0</td>\n",
       "      <td>0</td>\n",
       "      <td>32010</td>\n",
       "      <td>28</td>\n",
       "      <td>None</td>\n",
       "    </tr>\n",
       "    <tr>\n",
       "      <th>Wrecking Ball</th>\n",
       "      <td>None</td>\n",
       "      <td>0</td>\n",
       "      <td>1</td>\n",
       "      <td>0</td>\n",
       "      <td>0</td>\n",
       "      <td>0</td>\n",
       "      <td>0</td>\n",
       "      <td>0</td>\n",
       "      <td>164</td>\n",
       "      <td>0</td>\n",
       "      <td>0</td>\n",
       "      <td>452375</td>\n",
       "      <td>19</td>\n",
       "      <td>None</td>\n",
       "    </tr>\n",
       "    <tr>\n",
       "      <th>Gook</th>\n",
       "      <td>None</td>\n",
       "      <td>0</td>\n",
       "      <td>1</td>\n",
       "      <td>0</td>\n",
       "      <td>0</td>\n",
       "      <td>0</td>\n",
       "      <td>0</td>\n",
       "      <td>1</td>\n",
       "      <td>346</td>\n",
       "      <td>0</td>\n",
       "      <td>0</td>\n",
       "      <td>364395</td>\n",
       "      <td>56</td>\n",
       "      <td>None</td>\n",
       "    </tr>\n",
       "    <tr>\n",
       "      <th>ULT</th>\n",
       "      <td>653</td>\n",
       "      <td>0</td>\n",
       "      <td>4</td>\n",
       "      <td>0</td>\n",
       "      <td>0</td>\n",
       "      <td>0</td>\n",
       "      <td>2</td>\n",
       "      <td>1</td>\n",
       "      <td>614</td>\n",
       "      <td>0</td>\n",
       "      <td>0</td>\n",
       "      <td>495734</td>\n",
       "      <td>58</td>\n",
       "      <td>None</td>\n",
       "    </tr>\n",
       "    <tr>\n",
       "      <th>Good Night</th>\n",
       "      <td>None</td>\n",
       "      <td>0</td>\n",
       "      <td>2</td>\n",
       "      <td>0</td>\n",
       "      <td>0</td>\n",
       "      <td>0</td>\n",
       "      <td>0</td>\n",
       "      <td>1</td>\n",
       "      <td>343</td>\n",
       "      <td>0</td>\n",
       "      <td>0</td>\n",
       "      <td>342606</td>\n",
       "      <td>53</td>\n",
       "      <td>None</td>\n",
       "    </tr>\n",
       "  </tbody>\n",
       "</table>\n",
       "</div>"
      ],
      "text/plain": [
       "              de_playlist_total_reach num_am_editorial_playlists  \\\n",
       "Roma Fade                       32881                          0   \n",
       "Wrecking Ball                    None                          0   \n",
       "Gook                             None                          0   \n",
       "ULT                               653                          0   \n",
       "Good Night                       None                          0   \n",
       "\n",
       "              num_am_playlists num_az_editorial_playlists num_az_playlists  \\\n",
       "Roma Fade                    2                          0                0   \n",
       "Wrecking Ball                1                          0                0   \n",
       "Gook                         1                          0                0   \n",
       "ULT                          4                          0                0   \n",
       "Good Night                   2                          0                0   \n",
       "\n",
       "              num_de_editorial_playlists num_de_playlists  \\\n",
       "Roma Fade                              0                2   \n",
       "Wrecking Ball                          0                0   \n",
       "Gook                                   0                0   \n",
       "ULT                                    0                2   \n",
       "Good Night                             0                0   \n",
       "\n",
       "              num_sp_editorial_playlists num_sp_playlists  \\\n",
       "Roma Fade                              0              157   \n",
       "Wrecking Ball                          0              164   \n",
       "Gook                                   1              346   \n",
       "ULT                                    1              614   \n",
       "Good Night                             1              343   \n",
       "\n",
       "              num_yt_editorial_playlists num_yt_playlists  \\\n",
       "Roma Fade                              0                0   \n",
       "Wrecking Ball                          0                0   \n",
       "Gook                                   0                0   \n",
       "ULT                                    0                0   \n",
       "Good Night                             0                0   \n",
       "\n",
       "              sp_playlist_total_reach sp_popularity yt_playlist_total_reach  \n",
       "Roma Fade                       32010            28                    None  \n",
       "Wrecking Ball                  452375            19                    None  \n",
       "Gook                           364395            56                    None  \n",
       "ULT                            495734            58                    None  \n",
       "Good Night                     342606            53                    None  "
      ]
     },
     "execution_count": 67,
     "metadata": {},
     "output_type": "execute_result"
    }
   ],
   "source": [
    "hehe = pd.DataFrame(lol).T\n",
    "hehe.head()"
   ]
  },
  {
   "cell_type": "code",
   "execution_count": 62,
   "metadata": {},
   "outputs": [],
   "source": [
    "import seaborn as sns"
   ]
  },
  {
   "cell_type": "code",
   "execution_count": 69,
   "metadata": {},
   "outputs": [
    {
     "data": {
      "text/plain": [
       "<matplotlib.axes._subplots.AxesSubplot at 0x7fac30c34da0>"
      ]
     },
     "execution_count": 69,
     "metadata": {},
     "output_type": "execute_result"
    },
    {
     "data": {
      "image/png": "[encoded data removed]",
      "text/plain": [
       "<Figure size 432x288 with 1 Axes>"
      ]
     },
     "metadata": {
      "needs_background": "light"
     },
     "output_type": "display_data"
    }
   ],
   "source": [
    "sns.pointplot(data = hehe, x='sp_popularity', y='num_sp_playlists')"
   ]
  },
  {
   "cell_type": "code",
   "execution_count": null,
   "metadata": {},
   "outputs": [],
   "source": []
  }
 ],
 "metadata": {
  "kernelspec": {
   "display_name": "Python 3",
   "language": "python",
   "name": "python3"
  },
  "language_info": {
   "codemirror_mode": {
    "name": "ipython",
    "version": 3
   },
   "file_extension": ".py",
   "mimetype": "text/x-python",
   "name": "python",
   "nbconvert_exporter": "python",
   "pygments_lexer": "ipython3",
   "version": "3.7.0"
  }
 },
 "nbformat": 4,
 "nbformat_minor": 2
}
